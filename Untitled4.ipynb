{
  "nbformat": 4,
  "nbformat_minor": 0,
  "metadata": {
    "colab": {
      "name": "Untitled4.ipynb",
      "provenance": [],
      "authorship_tag": "ABX9TyPEhuuqvJdmc1Tlk+s8H85w",
      "include_colab_link": true
    },
    "kernelspec": {
      "name": "python3",
      "display_name": "Python 3"
    },
    "language_info": {
      "name": "python"
    }
  },
  "cells": [
    {
      "cell_type": "markdown",
      "metadata": {
        "id": "view-in-github",
        "colab_type": "text"
      },
      "source": [
        "<a href=\"https://colab.research.google.com/github/mariem-elfouzi/check4/blob/main/Untitled4.ipynb\" target=\"_parent\"><img src=\"https://colab.research.google.com/assets/colab-badge.svg\" alt=\"Open In Colab\"/></a>"
      ]
    },
    {
      "cell_type": "code",
      "metadata": {
        "id": "aXGrUp_cdajK"
      },
      "source": [
        "#question 1\n",
        "list = []\n",
        "for i in range (3):\n",
        "  n=int(input())\n",
        "  list.append(n)\n",
        "print(max(list))"
      ],
      "execution_count": null,
      "outputs": []
    },
    {
      "cell_type": "code",
      "metadata": {
        "id": "Al1Y4Bpdi1as"
      },
      "source": [
        "#question 2\n",
        "def calc(x,y):\n",
        "  print(x+y,\",\",abs(x-y))\n",
        "a=int(input())\n",
        "b=int(input())\n",
        "calc(a,b)"
      ],
      "execution_count": null,
      "outputs": []
    },
    {
      "cell_type": "code",
      "metadata": {
        "id": "nMyT4MxAlqcD"
      },
      "source": [
        "#question 3\n",
        "list=[53,12,15,69]\n",
        "def sum(list):\n",
        "  s=0\n",
        "  for i in range (0,len(list)):\n",
        "    s=s+list[i]\n",
        "  print(s)\n",
        "def sus(list):\n",
        "  u=1\n",
        "  for i in range (0,len(list)):\n",
        "    u=u*list[i]\n",
        "  print(u) \n",
        "list1=list[::2]\n",
        "del list[::2]\n",
        "sum(list1)\n",
        "sus(list)\n"
      ],
      "execution_count": null,
      "outputs": []
    },
    {
      "cell_type": "code",
      "metadata": {
        "id": "dh2X7091sm2A"
      },
      "source": [
        "#question 4\n",
        "x=input()\n",
        "w=x.split(\"-\")\n",
        "w.sort()\n",
        "print(w)"
      ],
      "execution_count": null,
      "outputs": []
    },
    {
      "cell_type": "code",
      "metadata": {
        "id": "udoPuJ0Uu30N",
        "colab": {
          "base_uri": "https://localhost:8080/"
        },
        "outputId": "126ab87e-932e-42d2-de0a-c87eb75b1b20"
      },
      "source": [
        "#question 5\n",
        "import math\n",
        "d=input()\n",
        "list=d.split(\",\")\n",
        "list1=[]\n",
        "for i in range (0,len(list)):\n",
        "  list1.append(int(list[i]))\n",
        "print(list1)\n",
        "s=map(lambda d:math.sqrt((100*d)/30),list1)\n",
        "for i in s:\n",
        "  print(int(i),\",\",end=\" \")"
      ],
      "execution_count": 29,
      "outputs": [
        {
          "output_type": "stream",
          "text": [
            "12,236,100\n",
            "[12, 236, 100]\n",
            "6 , 28 , 18 , "
          ],
          "name": "stdout"
        }
      ]
    }
  ]
}